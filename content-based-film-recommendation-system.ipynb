{
 "cells": [
  {
   "cell_type": "markdown",
   "id": "0ce7a26b",
   "metadata": {
    "papermill": {
     "duration": 0.010933,
     "end_time": "2024-02-24T12:44:18.347625",
     "exception": false,
     "start_time": "2024-02-24T12:44:18.336692",
     "status": "completed"
    },
    "tags": []
   },
   "source": [
    "<div style=\"color:green; font-family: 'Arial'; font-size: 36px;\"><b>🎬 Content Based Film Recommendation System </b></div>\n"
   ]
  },
  {
   "cell_type": "markdown",
   "id": "49dd6920",
   "metadata": {
    "papermill": {
     "duration": 0.009935,
     "end_time": "2024-02-24T12:44:18.368104",
     "exception": false,
     "start_time": "2024-02-24T12:44:18.358169",
     "status": "completed"
    },
    "tags": []
   },
   "source": [
    "# Content-Based Filtering:\n",
    "\n",
    "Content-based filtering stands as a sophisticated approach to recommendation systems, focusing on aligning suggestions with the unique interests and preferences of users. This methodology delves into the analysis of a user's historical interactions and preferences to present them with new items that bear resemblance in content.\n",
    "\n",
    "At the core of content-based filtering lies the examination of the attributes of items to identify those that parallel the user's taste, based on specific similarity measures. For instance, in recommending films, the algorithm might evaluate elements like genre, starring actors, directors, and more, drawing from movies the user has previously enjoyed. Consequently, it proposes films that share these attributes.\n",
    "\n",
    "These systems leverage advanced techniques such as text analysis, tagging, and categorization to dissect content features, enhancing their understanding of user inclinations. In the context of music recommendations, the analysis might extend to attributes such as genre, instrumental use, tempo, and rhythm.\n",
    "\n",
    "By tailoring recommendations to mirror the user’s historical data, content-based recommendation systems excel in crafting personalized experiences that resonate with the user's established interests, enhancing satisfaction and engagement."
   ]
  },
  {
   "cell_type": "markdown",
   "id": "3ab85054",
   "metadata": {
    "papermill": {
     "duration": 0.010038,
     "end_time": "2024-02-24T12:44:18.388874",
     "exception": false,
     "start_time": "2024-02-24T12:44:18.378836",
     "status": "completed"
    },
    "tags": []
   },
   "source": [
    "## Aim:\n",
    "Our aim is to suggest films akin to those a visitor enjoys when they browse our website for movie viewing"
   ]
  },
  {
   "cell_type": "markdown",
   "id": "ffb316b3",
   "metadata": {
    "papermill": {
     "duration": 0.009934,
     "end_time": "2024-02-24T12:44:18.409307",
     "exception": false,
     "start_time": "2024-02-24T12:44:18.399373",
     "status": "completed"
    },
    "tags": []
   },
   "source": [
    "## Project Blueprint\n",
    "\n",
    "**1-Data Acquisition with Python:** Gathering the necessary datasets.\n",
    "\n",
    "**2-Data Manipulation and Preparation:** Refining and structuring the data for analysis.\n",
    "\n",
    "**3-Construction of the TF-IDF Matrix:** Developing the matrix to understand the importance of words in the movie descriptions.\n",
    "\n",
    "**4-Establishing the Cosine Similarity Framework:** Creating a matrix to measure the similarity between movies.\n",
    "\n",
    "**5-Making Recommendations Based on Similarities:** Identifying and suggesting movies based on their similarities.\n",
    "\n",
    "**6-Finalizing the Analysis Script:** Preparing the script for comprehensive study and insights."
   ]
  },
  {
   "cell_type": "markdown",
   "id": "83107122",
   "metadata": {
    "papermill": {
     "duration": 0.01042,
     "end_time": "2024-02-24T12:44:18.429753",
     "exception": false,
     "start_time": "2024-02-24T12:44:18.419333",
     "status": "completed"
    },
    "tags": []
   },
   "source": [
    "# 1-Data Acquisition with Python\n",
    "### Import Libraries"
   ]
  },
  {
   "cell_type": "code",
   "execution_count": 1,
   "id": "1d6548c5",
   "metadata": {
    "execution": {
     "iopub.execute_input": "2024-02-24T12:44:18.451730Z",
     "iopub.status.busy": "2024-02-24T12:44:18.451324Z",
     "iopub.status.idle": "2024-02-24T12:44:20.611351Z",
     "shell.execute_reply": "2024-02-24T12:44:20.610128Z"
    },
    "papermill": {
     "duration": 2.174443,
     "end_time": "2024-02-24T12:44:20.614399",
     "exception": false,
     "start_time": "2024-02-24T12:44:18.439956",
     "status": "completed"
    },
    "tags": []
   },
   "outputs": [],
   "source": [
    "import pandas as pd\n",
    "import numpy as np\n",
    "\n",
    "from sklearn.feature_extraction.text import TfidfVectorizer\n",
    "from sklearn.metrics.pairwise import cosine_similarity"
   ]
  },
  {
   "cell_type": "code",
   "execution_count": 2,
   "id": "b22807be",
   "metadata": {
    "execution": {
     "iopub.execute_input": "2024-02-24T12:44:20.637726Z",
     "iopub.status.busy": "2024-02-24T12:44:20.636422Z",
     "iopub.status.idle": "2024-02-24T12:44:20.642091Z",
     "shell.execute_reply": "2024-02-24T12:44:20.641238Z"
    },
    "papermill": {
     "duration": 0.019789,
     "end_time": "2024-02-24T12:44:20.644392",
     "exception": false,
     "start_time": "2024-02-24T12:44:20.624603",
     "status": "completed"
    },
    "tags": []
   },
   "outputs": [],
   "source": [
    "# Adjusting Row Column Settings\n",
    "pd.set_option('display.max_columns', None)\n",
    "pd.set_option('display.width', 500)\n",
    "pd.set_option('display.expand_frame_repr', False)"
   ]
  },
  {
   "cell_type": "markdown",
   "id": "ccf55be8",
   "metadata": {
    "papermill": {
     "duration": 0.010595,
     "end_time": "2024-02-24T12:44:20.664976",
     "exception": false,
     "start_time": "2024-02-24T12:44:20.654381",
     "status": "completed"
    },
    "tags": []
   },
   "source": [
    "### Import data"
   ]
  },
  {
   "cell_type": "code",
   "execution_count": 3,
   "id": "949179f1",
   "metadata": {
    "execution": {
     "iopub.execute_input": "2024-02-24T12:44:20.686801Z",
     "iopub.status.busy": "2024-02-24T12:44:20.686360Z",
     "iopub.status.idle": "2024-02-24T12:44:21.905915Z",
     "shell.execute_reply": "2024-02-24T12:44:21.904972Z"
    },
    "papermill": {
     "duration": 1.233717,
     "end_time": "2024-02-24T12:44:21.908621",
     "exception": false,
     "start_time": "2024-02-24T12:44:20.674904",
     "status": "completed"
    },
    "tags": []
   },
   "outputs": [],
   "source": [
    "df = pd.read_csv(\"/kaggle/input/movies-metadata/movies_metadata.csv\" , low_memory=False) "
   ]
  },
  {
   "cell_type": "markdown",
   "id": "f6aa9af3",
   "metadata": {
    "papermill": {
     "duration": 0.009822,
     "end_time": "2024-02-24T12:44:21.928608",
     "exception": false,
     "start_time": "2024-02-24T12:44:21.918786",
     "status": "completed"
    },
    "tags": []
   },
   "source": [
    "### Initial Analysis of the Dataset"
   ]
  },
  {
   "cell_type": "code",
   "execution_count": 4,
   "id": "f8a0928f",
   "metadata": {
    "execution": {
     "iopub.execute_input": "2024-02-24T12:44:21.950871Z",
     "iopub.status.busy": "2024-02-24T12:44:21.950472Z",
     "iopub.status.idle": "2024-02-24T12:44:22.112644Z",
     "shell.execute_reply": "2024-02-24T12:44:22.111451Z"
    },
    "papermill": {
     "duration": 0.177467,
     "end_time": "2024-02-24T12:44:22.116151",
     "exception": false,
     "start_time": "2024-02-24T12:44:21.938684",
     "status": "completed"
    },
    "tags": []
   },
   "outputs": [
    {
     "name": "stdout",
     "output_type": "stream",
     "text": [
      "##################### Shape #####################\n",
      "(45466, 24)\n",
      "##################### Types #####################\n",
      "adult                     object\n",
      "belongs_to_collection     object\n",
      "budget                    object\n",
      "genres                    object\n",
      "homepage                  object\n",
      "id                        object\n",
      "imdb_id                   object\n",
      "original_language         object\n",
      "original_title            object\n",
      "overview                  object\n",
      "popularity                object\n",
      "poster_path               object\n",
      "production_companies      object\n",
      "production_countries      object\n",
      "release_date              object\n",
      "revenue                  float64\n",
      "runtime                  float64\n",
      "spoken_languages          object\n",
      "status                    object\n",
      "tagline                   object\n",
      "title                     object\n",
      "video                     object\n",
      "vote_average             float64\n",
      "vote_count               float64\n",
      "dtype: object\n",
      "######################## Head ########################\n",
      "   adult                              belongs_to_collection    budget                                             genres                              homepage     id    imdb_id original_language               original_title                                           overview popularity                       poster_path                               production_companies                               production_countries release_date      revenue  runtime                                   spoken_languages    status                                            tagline                        title  video  vote_average  vote_count\n",
      "0  False  {'id': 10194, 'name': 'Toy Story Collection', ...  30000000  [{'id': 16, 'name': 'Animation'}, {'id': 35, '...  http://toystory.disney.com/toy-story    862  tt0114709                en                    Toy Story  Led by Woody, Andy's toys live happily in his ...  21.946943  /rhIRbceoE9lR4veEXuwCC2wARtG.jpg     [{'name': 'Pixar Animation Studios', 'id': 3}]  [{'iso_3166_1': 'US', 'name': 'United States o...   1995-10-30  373554033.0     81.0           [{'iso_639_1': 'en', 'name': 'English'}]  Released                                                NaN                    Toy Story  False           7.7      5415.0\n",
      "1  False                                                NaN  65000000  [{'id': 12, 'name': 'Adventure'}, {'id': 14, '...                                   NaN   8844  tt0113497                en                      Jumanji  When siblings Judy and Peter discover an encha...  17.015539  /vzmL6fP7aPKNKPRTFnZmiUfciyV.jpg  [{'name': 'TriStar Pictures', 'id': 559}, {'na...  [{'iso_3166_1': 'US', 'name': 'United States o...   1995-12-15  262797249.0    104.0  [{'iso_639_1': 'en', 'name': 'English'}, {'iso...  Released          Roll the dice and unleash the excitement!                      Jumanji  False           6.9      2413.0\n",
      "2  False  {'id': 119050, 'name': 'Grumpy Old Men Collect...         0  [{'id': 10749, 'name': 'Romance'}, {'id': 35, ...                                   NaN  15602  tt0113228                en             Grumpier Old Men  A family wedding reignites the ancient feud be...    11.7129  /6ksm1sjKMFLbO7UY2i6G1ju9SML.jpg  [{'name': 'Warner Bros.', 'id': 6194}, {'name'...  [{'iso_3166_1': 'US', 'name': 'United States o...   1995-12-22          0.0    101.0           [{'iso_639_1': 'en', 'name': 'English'}]  Released  Still Yelling. Still Fighting. Still Ready for...             Grumpier Old Men  False           6.5        92.0\n",
      "3  False                                                NaN  16000000  [{'id': 35, 'name': 'Comedy'}, {'id': 18, 'nam...                                   NaN  31357  tt0114885                en            Waiting to Exhale  Cheated on, mistreated and stepped on, the wom...   3.859495  /16XOMpEaLWkrcPqSQqhTmeJuqQl.jpg  [{'name': 'Twentieth Century Fox Film Corporat...  [{'iso_3166_1': 'US', 'name': 'United States o...   1995-12-22   81452156.0    127.0           [{'iso_639_1': 'en', 'name': 'English'}]  Released  Friends are the people who let you be yourself...            Waiting to Exhale  False           6.1        34.0\n",
      "4  False  {'id': 96871, 'name': 'Father of the Bride Col...         0                     [{'id': 35, 'name': 'Comedy'}]                                   NaN  11862  tt0113041                en  Father of the Bride Part II  Just when George Banks has recovered from his ...   8.387519  /e64sOI48hQXyru7naBFyssKFxVd.jpg  [{'name': 'Sandollar Productions', 'id': 5842}...  [{'iso_3166_1': 'US', 'name': 'United States o...   1995-02-10   76578911.0    106.0           [{'iso_639_1': 'en', 'name': 'English'}]  Released  Just When His World Is Back To Normal... He's ...  Father of the Bride Part II  False           5.7       173.0\n",
      "######################## Tail ########################\n",
      "       adult belongs_to_collection budget                                             genres                              homepage      id    imdb_id original_language       original_title                                           overview popularity                       poster_path                               production_companies                               production_countries release_date  revenue  runtime                          spoken_languages    status                                     tagline                title  video  vote_average  vote_count\n",
      "45461  False                   NaN      0  [{'id': 18, 'name': 'Drama'}, {'id': 10751, 'n...  http://www.imdb.com/title/tt6209470/  439050  tt6209470                fa              رگ خواب        Rising and falling between a man and woman.   0.072051  /jldsYflnId4tTWPx8es3uzsB1I8.jpg                                                 []             [{'iso_3166_1': 'IR', 'name': 'Iran'}]          NaN      0.0     90.0    [{'iso_639_1': 'fa', 'name': 'فارسی'}]  Released  Rising and falling between a man and woman               Subdue  False           4.0         1.0\n",
      "45462  False                   NaN      0                      [{'id': 18, 'name': 'Drama'}]                                   NaN  111109  tt2028550                tl  Siglo ng Pagluluwal  An artist struggles to finish his work while a...   0.178241  /xZkmxsNmYXJbKVsTRLLx3pqGHx7.jpg             [{'name': 'Sine Olivia', 'id': 19653}]      [{'iso_3166_1': 'PH', 'name': 'Philippines'}]   2011-11-17      0.0    360.0         [{'iso_639_1': 'tl', 'name': ''}]  Released                                         NaN  Century of Birthing  False           9.0         3.0\n",
      "45463  False                   NaN      0  [{'id': 28, 'name': 'Action'}, {'id': 18, 'nam...                                   NaN   67758  tt0303758                en             Betrayal  When one of her hits goes wrong, a professiona...   0.903007  /d5bX92nDsISNhu3ZT69uHwmfCGw.jpg  [{'name': 'American World Pictures', 'id': 6165}]  [{'iso_3166_1': 'US', 'name': 'United States o...   2003-08-01      0.0     90.0  [{'iso_639_1': 'en', 'name': 'English'}]  Released                      A deadly game of wits.             Betrayal  False           3.8         6.0\n",
      "45464  False                   NaN      0                                                 []                                   NaN  227506  tt0008536                en  Satana likuyushchiy  In a small town live two brothers, one a minis...   0.003503  /aorBPO7ak8e8iJKT5OcqYxU3jlK.jpg               [{'name': 'Yermoliev', 'id': 88753}]           [{'iso_3166_1': 'RU', 'name': 'Russia'}]   1917-10-21      0.0     87.0                                        []  Released                                         NaN     Satan Triumphant  False           0.0         0.0\n",
      "45465  False                   NaN      0                                                 []                                   NaN  461257  tt6980792                en             Queerama  50 years after decriminalisation of homosexual...   0.163015  /s5UkZt6NTsrS7ZF0Rh8nzupRlIU.jpg                                                 []   [{'iso_3166_1': 'GB', 'name': 'United Kingdom'}]   2017-06-09      0.0     75.0  [{'iso_639_1': 'en', 'name': 'English'}]  Released                                         NaN             Queerama  False           0.0         0.0\n",
      "################## NA ##################\n",
      "adult                        0\n",
      "belongs_to_collection    40972\n",
      "budget                       0\n",
      "genres                       0\n",
      "homepage                 37684\n",
      "id                           0\n",
      "imdb_id                     17\n",
      "original_language           11\n",
      "original_title               0\n",
      "overview                   954\n",
      "popularity                   5\n",
      "poster_path                386\n",
      "production_companies         3\n",
      "production_countries         3\n",
      "release_date                87\n",
      "revenue                      6\n",
      "runtime                    263\n",
      "spoken_languages             6\n",
      "status                      87\n",
      "tagline                  25054\n",
      "title                        6\n",
      "video                        6\n",
      "vote_average                 6\n",
      "vote_count                   6\n",
      "dtype: int64\n",
      "######################## Quantiles ########################\n",
      "                count          mean           std  min   0%    5%   50%           95%           99%          100%           max\n",
      "revenue       45460.0  1.120935e+07  6.433225e+07  0.0  0.0   0.0   0.0  4.780892e+07  2.730876e+08  2.787965e+09  2.787965e+09\n",
      "runtime       45203.0  9.412820e+01  3.840781e+01  0.0  0.0  11.0  95.0  1.380000e+02  1.850000e+02  1.256000e+03  1.256000e+03\n",
      "vote_average  45460.0  5.618207e+00  1.924216e+00  0.0  0.0   0.0   6.0  7.800000e+00  8.700000e+00  1.000000e+01  1.000000e+01\n",
      "vote_count    45460.0  1.098973e+02  4.913104e+02  0.0  0.0   0.0  10.0  4.340000e+02  2.183820e+03  1.407500e+04  1.407500e+04\n"
     ]
    }
   ],
   "source": [
    "def check_df(dataframe, head=5):\n",
    "    print('##################### Shape #####################')\n",
    "    print(dataframe.shape)\n",
    "    print('##################### Types #####################')\n",
    "    print(dataframe.dtypes)\n",
    "    print('######################## Head ########################')\n",
    "    print(dataframe.head(head))\n",
    "    print('######################## Tail ########################')\n",
    "    print(dataframe.tail(head))\n",
    "    print('################## NA ##################')\n",
    "    print(dataframe.isnull().sum())\n",
    "    print('######################## Quantiles ########################')\n",
    "    print(dataframe.describe([0, 0.05, 0.50, 0.95, 0.99, 1]).T)\n",
    "\n",
    "check_df(df)"
   ]
  },
  {
   "cell_type": "markdown",
   "id": "53a874a9",
   "metadata": {
    "papermill": {
     "duration": 0.010872,
     "end_time": "2024-02-24T12:44:22.138176",
     "exception": false,
     "start_time": "2024-02-24T12:44:22.127304",
     "status": "completed"
    },
    "tags": []
   },
   "source": [
    "# 2-Data Manipulation and Preparation"
   ]
  },
  {
   "cell_type": "code",
   "execution_count": 5,
   "id": "61af91c4",
   "metadata": {
    "execution": {
     "iopub.execute_input": "2024-02-24T12:44:22.161123Z",
     "iopub.status.busy": "2024-02-24T12:44:22.160318Z",
     "iopub.status.idle": "2024-02-24T12:44:22.207255Z",
     "shell.execute_reply": "2024-02-24T12:44:22.206188Z"
    },
    "papermill": {
     "duration": 0.060863,
     "end_time": "2024-02-24T12:44:22.209507",
     "exception": false,
     "start_time": "2024-02-24T12:44:22.148644",
     "status": "completed"
    },
    "tags": []
   },
   "outputs": [
    {
     "data": {
      "text/html": [
       "<div>\n",
       "<style scoped>\n",
       "    .dataframe tbody tr th:only-of-type {\n",
       "        vertical-align: middle;\n",
       "    }\n",
       "\n",
       "    .dataframe tbody tr th {\n",
       "        vertical-align: top;\n",
       "    }\n",
       "\n",
       "    .dataframe thead th {\n",
       "        text-align: right;\n",
       "    }\n",
       "</style>\n",
       "<table border=\"1\" class=\"dataframe\">\n",
       "  <thead>\n",
       "    <tr style=\"text-align: right;\">\n",
       "      <th></th>\n",
       "      <th>adult</th>\n",
       "      <th>belongs_to_collection</th>\n",
       "      <th>budget</th>\n",
       "      <th>genres</th>\n",
       "      <th>homepage</th>\n",
       "      <th>id</th>\n",
       "      <th>imdb_id</th>\n",
       "      <th>original_language</th>\n",
       "      <th>original_title</th>\n",
       "      <th>overview</th>\n",
       "      <th>popularity</th>\n",
       "      <th>poster_path</th>\n",
       "      <th>production_companies</th>\n",
       "      <th>production_countries</th>\n",
       "      <th>release_date</th>\n",
       "      <th>revenue</th>\n",
       "      <th>runtime</th>\n",
       "      <th>spoken_languages</th>\n",
       "      <th>status</th>\n",
       "      <th>tagline</th>\n",
       "      <th>title</th>\n",
       "      <th>video</th>\n",
       "      <th>vote_average</th>\n",
       "      <th>vote_count</th>\n",
       "    </tr>\n",
       "  </thead>\n",
       "  <tbody>\n",
       "    <tr>\n",
       "      <th>32</th>\n",
       "      <td>False</td>\n",
       "      <td>NaN</td>\n",
       "      <td>0</td>\n",
       "      <td>[{'id': 10749, 'name': 'Romance'}, {'id': 12, ...</td>\n",
       "      <td>NaN</td>\n",
       "      <td>78802</td>\n",
       "      <td>tt0114952</td>\n",
       "      <td>fr</td>\n",
       "      <td>Guillaumet, les ailes du courage</td>\n",
       "      <td>NaN</td>\n",
       "      <td>0.745542</td>\n",
       "      <td>/k6ODtR38dKEfuzSGjggr8KDyAF4.jpg</td>\n",
       "      <td>[{'name': 'Iwerks Entertainment', 'id': 70801}]</td>\n",
       "      <td>[{'iso_3166_1': 'FR', 'name': 'France'}, {'iso...</td>\n",
       "      <td>1996-09-18</td>\n",
       "      <td>0.0</td>\n",
       "      <td>50.0</td>\n",
       "      <td>[{'iso_639_1': 'en', 'name': 'English'}]</td>\n",
       "      <td>Released</td>\n",
       "      <td>NaN</td>\n",
       "      <td>Wings of Courage</td>\n",
       "      <td>False</td>\n",
       "      <td>6.8</td>\n",
       "      <td>4.0</td>\n",
       "    </tr>\n",
       "    <tr>\n",
       "      <th>300</th>\n",
       "      <td>False</td>\n",
       "      <td>NaN</td>\n",
       "      <td>22000000</td>\n",
       "      <td>[{'id': 18, 'name': 'Drama'}, {'id': 35, 'name...</td>\n",
       "      <td>NaN</td>\n",
       "      <td>161495</td>\n",
       "      <td>tt0114296</td>\n",
       "      <td>sv</td>\n",
       "      <td>Roommates</td>\n",
       "      <td>NaN</td>\n",
       "      <td>3.395867</td>\n",
       "      <td>/hvHNlMvWS2GBt7RR971bJ3k4bJc.jpg</td>\n",
       "      <td>[{'name': 'Hollywood Pictures', 'id': 915}, {'...</td>\n",
       "      <td>[{'iso_3166_1': 'US', 'name': 'United States o...</td>\n",
       "      <td>1995-03-01</td>\n",
       "      <td>12400000.0</td>\n",
       "      <td>108.0</td>\n",
       "      <td>[{'iso_639_1': 'en', 'name': 'English'}]</td>\n",
       "      <td>Released</td>\n",
       "      <td>NaN</td>\n",
       "      <td>Roommates</td>\n",
       "      <td>False</td>\n",
       "      <td>6.4</td>\n",
       "      <td>7.0</td>\n",
       "    </tr>\n",
       "    <tr>\n",
       "      <th>634</th>\n",
       "      <td>False</td>\n",
       "      <td>NaN</td>\n",
       "      <td>0</td>\n",
       "      <td>[{'id': 35, 'name': 'Comedy'}]</td>\n",
       "      <td>NaN</td>\n",
       "      <td>287305</td>\n",
       "      <td>tt0117312</td>\n",
       "      <td>de</td>\n",
       "      <td>Peanuts – Die Bank zahlt alles</td>\n",
       "      <td>NaN</td>\n",
       "      <td>0.066123</td>\n",
       "      <td>/wpk30SvRHmjC2plgKHZXxG0FlKd.jpg</td>\n",
       "      <td>[{'name': 'Westdeutscher Rundfunk (WDR)', 'id'...</td>\n",
       "      <td>[{'iso_3166_1': 'DE', 'name': 'Germany'}]</td>\n",
       "      <td>1996-03-21</td>\n",
       "      <td>0.0</td>\n",
       "      <td>NaN</td>\n",
       "      <td>[]</td>\n",
       "      <td>Released</td>\n",
       "      <td>NaN</td>\n",
       "      <td>Peanuts – Die Bank zahlt alles</td>\n",
       "      <td>False</td>\n",
       "      <td>4.0</td>\n",
       "      <td>1.0</td>\n",
       "    </tr>\n",
       "    <tr>\n",
       "      <th>635</th>\n",
       "      <td>False</td>\n",
       "      <td>NaN</td>\n",
       "      <td>0</td>\n",
       "      <td>[{'id': 35, 'name': 'Comedy'}]</td>\n",
       "      <td>NaN</td>\n",
       "      <td>339428</td>\n",
       "      <td>tt0116485</td>\n",
       "      <td>de</td>\n",
       "      <td>Happy Weekend</td>\n",
       "      <td>NaN</td>\n",
       "      <td>0.002229</td>\n",
       "      <td>NaN</td>\n",
       "      <td>[{'name': 'Senator Film Produktion', 'id': 191}]</td>\n",
       "      <td>[{'iso_3166_1': 'DE', 'name': 'Germany'}]</td>\n",
       "      <td>1996-03-14</td>\n",
       "      <td>65335.0</td>\n",
       "      <td>NaN</td>\n",
       "      <td>[{'iso_639_1': 'de', 'name': 'Deutsch'}]</td>\n",
       "      <td>Released</td>\n",
       "      <td>NaN</td>\n",
       "      <td>Happy Weekend</td>\n",
       "      <td>False</td>\n",
       "      <td>0.0</td>\n",
       "      <td>0.0</td>\n",
       "    </tr>\n",
       "    <tr>\n",
       "      <th>641</th>\n",
       "      <td>False</td>\n",
       "      <td>NaN</td>\n",
       "      <td>0</td>\n",
       "      <td>[{'id': 35, 'name': 'Comedy'}]</td>\n",
       "      <td>NaN</td>\n",
       "      <td>10801</td>\n",
       "      <td>tt0117788</td>\n",
       "      <td>de</td>\n",
       "      <td>Das Superweib</td>\n",
       "      <td>NaN</td>\n",
       "      <td>0.821299</td>\n",
       "      <td>/AbhMKCh3fV5PY2B9uSPF1DWEvq2.jpg</td>\n",
       "      <td>[{'name': 'Constantin Film', 'id': 47}]</td>\n",
       "      <td>[{'iso_3166_1': 'DE', 'name': 'Germany'}]</td>\n",
       "      <td>1996-03-06</td>\n",
       "      <td>0.0</td>\n",
       "      <td>86.0</td>\n",
       "      <td>[{'iso_639_1': 'de', 'name': 'Deutsch'}]</td>\n",
       "      <td>Released</td>\n",
       "      <td>NaN</td>\n",
       "      <td>The Superwife</td>\n",
       "      <td>False</td>\n",
       "      <td>5.3</td>\n",
       "      <td>7.0</td>\n",
       "    </tr>\n",
       "    <tr>\n",
       "      <th>...</th>\n",
       "      <td>...</td>\n",
       "      <td>...</td>\n",
       "      <td>...</td>\n",
       "      <td>...</td>\n",
       "      <td>...</td>\n",
       "      <td>...</td>\n",
       "      <td>...</td>\n",
       "      <td>...</td>\n",
       "      <td>...</td>\n",
       "      <td>...</td>\n",
       "      <td>...</td>\n",
       "      <td>...</td>\n",
       "      <td>...</td>\n",
       "      <td>...</td>\n",
       "      <td>...</td>\n",
       "      <td>...</td>\n",
       "      <td>...</td>\n",
       "      <td>...</td>\n",
       "      <td>...</td>\n",
       "      <td>...</td>\n",
       "      <td>...</td>\n",
       "      <td>...</td>\n",
       "      <td>...</td>\n",
       "      <td>...</td>\n",
       "    </tr>\n",
       "    <tr>\n",
       "      <th>45342</th>\n",
       "      <td>False</td>\n",
       "      <td>NaN</td>\n",
       "      <td>0</td>\n",
       "      <td>[{'id': 18, 'name': 'Drama'}]</td>\n",
       "      <td>NaN</td>\n",
       "      <td>199887</td>\n",
       "      <td>tt1771636</td>\n",
       "      <td>en</td>\n",
       "      <td>Over/Under</td>\n",
       "      <td>NaN</td>\n",
       "      <td>0.704642</td>\n",
       "      <td>/1xLaIBGGPE4APtBJdfeuyOWICZ0.jpg</td>\n",
       "      <td>[{'name': 'Fox Television Studios', 'id': 6529...</td>\n",
       "      <td>[{'iso_3166_1': 'US', 'name': 'United States o...</td>\n",
       "      <td>2013-01-04</td>\n",
       "      <td>0.0</td>\n",
       "      <td>87.0</td>\n",
       "      <td>[{'iso_639_1': 'en', 'name': 'English'}]</td>\n",
       "      <td>Released</td>\n",
       "      <td>NaN</td>\n",
       "      <td>Over/Under</td>\n",
       "      <td>False</td>\n",
       "      <td>4.0</td>\n",
       "      <td>2.0</td>\n",
       "    </tr>\n",
       "    <tr>\n",
       "      <th>45377</th>\n",
       "      <td>False</td>\n",
       "      <td>NaN</td>\n",
       "      <td>0</td>\n",
       "      <td>[{'id': 12, 'name': 'Adventure'}]</td>\n",
       "      <td>NaN</td>\n",
       "      <td>317389</td>\n",
       "      <td>tt0070695</td>\n",
       "      <td>es</td>\n",
       "      <td>Simbad e il califfo di Bagdad</td>\n",
       "      <td>NaN</td>\n",
       "      <td>0.006352</td>\n",
       "      <td>/izk7KbT6LZO9baEhCkOZYMgj60w.jpg</td>\n",
       "      <td>[{'name': 'Roas Produzioni', 'id': 21137}, {'n...</td>\n",
       "      <td>[{'iso_3166_1': 'IT', 'name': 'Italy'}]</td>\n",
       "      <td>1973-07-22</td>\n",
       "      <td>0.0</td>\n",
       "      <td>NaN</td>\n",
       "      <td>[{'iso_639_1': 'it', 'name': 'Italiano'}]</td>\n",
       "      <td>Released</td>\n",
       "      <td>NaN</td>\n",
       "      <td>Simbad e il califfo di Bagdad</td>\n",
       "      <td>False</td>\n",
       "      <td>0.0</td>\n",
       "      <td>0.0</td>\n",
       "    </tr>\n",
       "    <tr>\n",
       "      <th>45398</th>\n",
       "      <td>False</td>\n",
       "      <td>NaN</td>\n",
       "      <td>1254040</td>\n",
       "      <td>[{'id': 10749, 'name': 'Romance'}, {'id': 35, ...</td>\n",
       "      <td>http://lmtr.fi/</td>\n",
       "      <td>468707</td>\n",
       "      <td>tt5742932</td>\n",
       "      <td>fi</td>\n",
       "      <td>Lauri Mäntyvaaran tuuheet ripset</td>\n",
       "      <td>NaN</td>\n",
       "      <td>0.347806</td>\n",
       "      <td>/rKOpJuwb7pTqYVShHM2tl25VxyF.jpg</td>\n",
       "      <td>[{'name': 'Elokuvayhtiö Oy Aamu', 'id': 84883}]</td>\n",
       "      <td>[{'iso_3166_1': 'FI', 'name': 'Finland'}]</td>\n",
       "      <td>2017-07-28</td>\n",
       "      <td>0.0</td>\n",
       "      <td>90.0</td>\n",
       "      <td>[{'iso_639_1': 'fi', 'name': 'suomi'}]</td>\n",
       "      <td>Released</td>\n",
       "      <td>NaN</td>\n",
       "      <td>Thick Lashes of Lauri Mäntyvaara</td>\n",
       "      <td>False</td>\n",
       "      <td>8.0</td>\n",
       "      <td>1.0</td>\n",
       "    </tr>\n",
       "    <tr>\n",
       "      <th>45399</th>\n",
       "      <td>False</td>\n",
       "      <td>NaN</td>\n",
       "      <td>750000</td>\n",
       "      <td>[{'id': 80, 'name': 'Crime'}, {'id': 35, 'name...</td>\n",
       "      <td>NaN</td>\n",
       "      <td>280422</td>\n",
       "      <td>tt3805180</td>\n",
       "      <td>ru</td>\n",
       "      <td>Все и сразу</td>\n",
       "      <td>NaN</td>\n",
       "      <td>0.201582</td>\n",
       "      <td>/hNsmPpl3zLG36jr4EIEd5P8I4pa.jpg</td>\n",
       "      <td>[{'name': 'Кинокомпания «Lunapark»', 'id': 420...</td>\n",
       "      <td>[{'iso_3166_1': 'RU', 'name': 'Russia'}]</td>\n",
       "      <td>2014-06-05</td>\n",
       "      <td>3.0</td>\n",
       "      <td>0.0</td>\n",
       "      <td>[{'iso_639_1': 'ru', 'name': 'Pусский'}]</td>\n",
       "      <td>Released</td>\n",
       "      <td>NaN</td>\n",
       "      <td>All at Once</td>\n",
       "      <td>False</td>\n",
       "      <td>6.0</td>\n",
       "      <td>4.0</td>\n",
       "    </tr>\n",
       "    <tr>\n",
       "      <th>45410</th>\n",
       "      <td>False</td>\n",
       "      <td>NaN</td>\n",
       "      <td>0</td>\n",
       "      <td>[{'id': 18, 'name': 'Drama'}, {'id': 80, 'name...</td>\n",
       "      <td>NaN</td>\n",
       "      <td>449131</td>\n",
       "      <td>tt0321264</td>\n",
       "      <td>ru</td>\n",
       "      <td>Aprel</td>\n",
       "      <td>NaN</td>\n",
       "      <td>0.008903</td>\n",
       "      <td>NaN</td>\n",
       "      <td>[]</td>\n",
       "      <td>[{'iso_3166_1': 'RU', 'name': 'Russia'}]</td>\n",
       "      <td>NaN</td>\n",
       "      <td>0.0</td>\n",
       "      <td>NaN</td>\n",
       "      <td>[]</td>\n",
       "      <td>Released</td>\n",
       "      <td>NaN</td>\n",
       "      <td>Aprel</td>\n",
       "      <td>False</td>\n",
       "      <td>6.0</td>\n",
       "      <td>1.0</td>\n",
       "    </tr>\n",
       "  </tbody>\n",
       "</table>\n",
       "<p>954 rows × 24 columns</p>\n",
       "</div>"
      ],
      "text/plain": [
       "       adult belongs_to_collection    budget                                             genres         homepage      id    imdb_id original_language                    original_title overview popularity                       poster_path                               production_companies                               production_countries release_date     revenue  runtime                           spoken_languages    status tagline                             title  video  vote_average  vote_count\n",
       "32     False                   NaN         0  [{'id': 10749, 'name': 'Romance'}, {'id': 12, ...              NaN   78802  tt0114952                fr  Guillaumet, les ailes du courage      NaN   0.745542  /k6ODtR38dKEfuzSGjggr8KDyAF4.jpg    [{'name': 'Iwerks Entertainment', 'id': 70801}]  [{'iso_3166_1': 'FR', 'name': 'France'}, {'iso...   1996-09-18         0.0     50.0   [{'iso_639_1': 'en', 'name': 'English'}]  Released     NaN                  Wings of Courage  False           6.8         4.0\n",
       "300    False                   NaN  22000000  [{'id': 18, 'name': 'Drama'}, {'id': 35, 'name...              NaN  161495  tt0114296                sv                         Roommates      NaN   3.395867  /hvHNlMvWS2GBt7RR971bJ3k4bJc.jpg  [{'name': 'Hollywood Pictures', 'id': 915}, {'...  [{'iso_3166_1': 'US', 'name': 'United States o...   1995-03-01  12400000.0    108.0   [{'iso_639_1': 'en', 'name': 'English'}]  Released     NaN                         Roommates  False           6.4         7.0\n",
       "634    False                   NaN         0                     [{'id': 35, 'name': 'Comedy'}]              NaN  287305  tt0117312                de    Peanuts – Die Bank zahlt alles      NaN   0.066123  /wpk30SvRHmjC2plgKHZXxG0FlKd.jpg  [{'name': 'Westdeutscher Rundfunk (WDR)', 'id'...          [{'iso_3166_1': 'DE', 'name': 'Germany'}]   1996-03-21         0.0      NaN                                         []  Released     NaN    Peanuts – Die Bank zahlt alles  False           4.0         1.0\n",
       "635    False                   NaN         0                     [{'id': 35, 'name': 'Comedy'}]              NaN  339428  tt0116485                de                     Happy Weekend      NaN   0.002229                               NaN   [{'name': 'Senator Film Produktion', 'id': 191}]          [{'iso_3166_1': 'DE', 'name': 'Germany'}]   1996-03-14     65335.0      NaN   [{'iso_639_1': 'de', 'name': 'Deutsch'}]  Released     NaN                     Happy Weekend  False           0.0         0.0\n",
       "641    False                   NaN         0                     [{'id': 35, 'name': 'Comedy'}]              NaN   10801  tt0117788                de                     Das Superweib      NaN   0.821299  /AbhMKCh3fV5PY2B9uSPF1DWEvq2.jpg            [{'name': 'Constantin Film', 'id': 47}]          [{'iso_3166_1': 'DE', 'name': 'Germany'}]   1996-03-06         0.0     86.0   [{'iso_639_1': 'de', 'name': 'Deutsch'}]  Released     NaN                     The Superwife  False           5.3         7.0\n",
       "...      ...                   ...       ...                                                ...              ...     ...        ...               ...                               ...      ...        ...                               ...                                                ...                                                ...          ...         ...      ...                                        ...       ...     ...                               ...    ...           ...         ...\n",
       "45342  False                   NaN         0                      [{'id': 18, 'name': 'Drama'}]              NaN  199887  tt1771636                en                        Over/Under      NaN   0.704642  /1xLaIBGGPE4APtBJdfeuyOWICZ0.jpg  [{'name': 'Fox Television Studios', 'id': 6529...  [{'iso_3166_1': 'US', 'name': 'United States o...   2013-01-04         0.0     87.0   [{'iso_639_1': 'en', 'name': 'English'}]  Released     NaN                        Over/Under  False           4.0         2.0\n",
       "45377  False                   NaN         0                  [{'id': 12, 'name': 'Adventure'}]              NaN  317389  tt0070695                es     Simbad e il califfo di Bagdad      NaN   0.006352  /izk7KbT6LZO9baEhCkOZYMgj60w.jpg  [{'name': 'Roas Produzioni', 'id': 21137}, {'n...            [{'iso_3166_1': 'IT', 'name': 'Italy'}]   1973-07-22         0.0      NaN  [{'iso_639_1': 'it', 'name': 'Italiano'}]  Released     NaN     Simbad e il califfo di Bagdad  False           0.0         0.0\n",
       "45398  False                   NaN   1254040  [{'id': 10749, 'name': 'Romance'}, {'id': 35, ...  http://lmtr.fi/  468707  tt5742932                fi  Lauri Mäntyvaaran tuuheet ripset      NaN   0.347806  /rKOpJuwb7pTqYVShHM2tl25VxyF.jpg    [{'name': 'Elokuvayhtiö Oy Aamu', 'id': 84883}]          [{'iso_3166_1': 'FI', 'name': 'Finland'}]   2017-07-28         0.0     90.0     [{'iso_639_1': 'fi', 'name': 'suomi'}]  Released     NaN  Thick Lashes of Lauri Mäntyvaara  False           8.0         1.0\n",
       "45399  False                   NaN    750000  [{'id': 80, 'name': 'Crime'}, {'id': 35, 'name...              NaN  280422  tt3805180                ru                       Все и сразу      NaN   0.201582  /hNsmPpl3zLG36jr4EIEd5P8I4pa.jpg  [{'name': 'Кинокомпания «Lunapark»', 'id': 420...           [{'iso_3166_1': 'RU', 'name': 'Russia'}]   2014-06-05         3.0      0.0   [{'iso_639_1': 'ru', 'name': 'Pусский'}]  Released     NaN                       All at Once  False           6.0         4.0\n",
       "45410  False                   NaN         0  [{'id': 18, 'name': 'Drama'}, {'id': 80, 'name...              NaN  449131  tt0321264                ru                             Aprel      NaN   0.008903                               NaN                                                 []           [{'iso_3166_1': 'RU', 'name': 'Russia'}]          NaN         0.0      NaN                                         []  Released     NaN                             Aprel  False           6.0         1.0\n",
       "\n",
       "[954 rows x 24 columns]"
      ]
     },
     "execution_count": 5,
     "metadata": {},
     "output_type": "execute_result"
    }
   ],
   "source": [
    "df[df['overview'].isnull()]"
   ]
  },
  {
   "cell_type": "code",
   "execution_count": 6,
   "id": "c23ae42c",
   "metadata": {
    "execution": {
     "iopub.execute_input": "2024-02-24T12:44:22.234593Z",
     "iopub.status.busy": "2024-02-24T12:44:22.233476Z",
     "iopub.status.idle": "2024-02-24T12:44:22.250784Z",
     "shell.execute_reply": "2024-02-24T12:44:22.249645Z"
    },
    "papermill": {
     "duration": 0.032669,
     "end_time": "2024-02-24T12:44:22.253432",
     "exception": false,
     "start_time": "2024-02-24T12:44:22.220763",
     "status": "completed"
    },
    "tags": []
   },
   "outputs": [],
   "source": [
    "df['overview'] = df['overview'].fillna('')"
   ]
  },
  {
   "cell_type": "markdown",
   "id": "07835a43",
   "metadata": {
    "papermill": {
     "duration": 0.010937,
     "end_time": "2024-02-24T12:44:22.275829",
     "exception": false,
     "start_time": "2024-02-24T12:44:22.264892",
     "status": "completed"
    },
    "tags": []
   },
   "source": [
    "# 3-Construction of the TF-IDF Matrix"
   ]
  },
  {
   "cell_type": "code",
   "execution_count": 7,
   "id": "50a87c21",
   "metadata": {
    "execution": {
     "iopub.execute_input": "2024-02-24T12:44:22.300444Z",
     "iopub.status.busy": "2024-02-24T12:44:22.300030Z",
     "iopub.status.idle": "2024-02-24T12:44:22.304132Z",
     "shell.execute_reply": "2024-02-24T12:44:22.303305Z"
    },
    "papermill": {
     "duration": 0.019254,
     "end_time": "2024-02-24T12:44:22.306469",
     "exception": false,
     "start_time": "2024-02-24T12:44:22.287215",
     "status": "completed"
    },
    "tags": []
   },
   "outputs": [],
   "source": [
    "#remove all English stop words (such as \"the\", \"is\", \"in\", etc.) \n",
    "tfidf = TfidfVectorizer(stop_words=\"english\")"
   ]
  },
  {
   "cell_type": "code",
   "execution_count": 8,
   "id": "f364da48",
   "metadata": {
    "execution": {
     "iopub.execute_input": "2024-02-24T12:44:22.330559Z",
     "iopub.status.busy": "2024-02-24T12:44:22.330161Z",
     "iopub.status.idle": "2024-02-24T12:44:25.847984Z",
     "shell.execute_reply": "2024-02-24T12:44:25.846932Z"
    },
    "papermill": {
     "duration": 3.533231,
     "end_time": "2024-02-24T12:44:25.850839",
     "exception": false,
     "start_time": "2024-02-24T12:44:22.317608",
     "status": "completed"
    },
    "tags": []
   },
   "outputs": [],
   "source": [
    "tfidf_matrix = tfidf.fit_transform(df['overview'])"
   ]
  },
  {
   "cell_type": "code",
   "execution_count": 9,
   "id": "c2602bd9",
   "metadata": {
    "execution": {
     "iopub.execute_input": "2024-02-24T12:44:25.875153Z",
     "iopub.status.busy": "2024-02-24T12:44:25.874765Z",
     "iopub.status.idle": "2024-02-24T12:44:25.881443Z",
     "shell.execute_reply": "2024-02-24T12:44:25.880420Z"
    },
    "papermill": {
     "duration": 0.021533,
     "end_time": "2024-02-24T12:44:25.883796",
     "exception": false,
     "start_time": "2024-02-24T12:44:25.862263",
     "status": "completed"
    },
    "tags": []
   },
   "outputs": [
    {
     "data": {
      "text/plain": [
       "(45466, 75827)"
      ]
     },
     "execution_count": 9,
     "metadata": {},
     "output_type": "execute_result"
    }
   ],
   "source": [
    "tfidf_matrix.shape"
   ]
  },
  {
   "cell_type": "code",
   "execution_count": 10,
   "id": "836ef6cd",
   "metadata": {
    "execution": {
     "iopub.execute_input": "2024-02-24T12:44:25.909313Z",
     "iopub.status.busy": "2024-02-24T12:44:25.908538Z",
     "iopub.status.idle": "2024-02-24T12:44:25.916007Z",
     "shell.execute_reply": "2024-02-24T12:44:25.914877Z"
    },
    "papermill": {
     "duration": 0.022983,
     "end_time": "2024-02-24T12:44:25.918379",
     "exception": false,
     "start_time": "2024-02-24T12:44:25.895396",
     "status": "completed"
    },
    "tags": []
   },
   "outputs": [
    {
     "data": {
      "text/plain": [
       "(45466,)"
      ]
     },
     "execution_count": 10,
     "metadata": {},
     "output_type": "execute_result"
    }
   ],
   "source": [
    "df['title'].shape"
   ]
  },
  {
   "cell_type": "code",
   "execution_count": 11,
   "id": "bb428443",
   "metadata": {
    "execution": {
     "iopub.execute_input": "2024-02-24T12:44:25.944102Z",
     "iopub.status.busy": "2024-02-24T12:44:25.942807Z",
     "iopub.status.idle": "2024-02-24T12:44:31.864509Z",
     "shell.execute_reply": "2024-02-24T12:44:31.863384Z"
    },
    "papermill": {
     "duration": 5.937053,
     "end_time": "2024-02-24T12:44:31.866967",
     "exception": false,
     "start_time": "2024-02-24T12:44:25.929914",
     "status": "completed"
    },
    "tags": []
   },
   "outputs": [
    {
     "data": {
      "text/plain": [
       "array([[0., 0., 0., ..., 0., 0., 0.],\n",
       "       [0., 0., 0., ..., 0., 0., 0.],\n",
       "       [0., 0., 0., ..., 0., 0., 0.],\n",
       "       ...,\n",
       "       [0., 0., 0., ..., 0., 0., 0.],\n",
       "       [0., 0., 0., ..., 0., 0., 0.],\n",
       "       [0., 0., 0., ..., 0., 0., 0.]])"
      ]
     },
     "execution_count": 11,
     "metadata": {},
     "output_type": "execute_result"
    }
   ],
   "source": [
    "tfidf_matrix.toarray()"
   ]
  },
  {
   "cell_type": "markdown",
   "id": "c06836cb",
   "metadata": {
    "papermill": {
     "duration": 0.011522,
     "end_time": "2024-02-24T12:44:31.890155",
     "exception": false,
     "start_time": "2024-02-24T12:44:31.878633",
     "status": "completed"
    },
    "tags": []
   },
   "source": [
    "# 4-Establishing the Cosine Similarity Framework"
   ]
  },
  {
   "cell_type": "code",
   "execution_count": 12,
   "id": "539be38f",
   "metadata": {
    "execution": {
     "iopub.execute_input": "2024-02-24T12:44:31.915132Z",
     "iopub.status.busy": "2024-02-24T12:44:31.914710Z",
     "iopub.status.idle": "2024-02-24T12:45:14.267933Z",
     "shell.execute_reply": "2024-02-24T12:45:14.266452Z"
    },
    "papermill": {
     "duration": 42.369064,
     "end_time": "2024-02-24T12:45:14.270913",
     "exception": false,
     "start_time": "2024-02-24T12:44:31.901849",
     "status": "completed"
    },
    "tags": []
   },
   "outputs": [],
   "source": [
    "cosine_sim = cosine_similarity(tfidf_matrix,tfidf_matrix)"
   ]
  },
  {
   "cell_type": "code",
   "execution_count": 13,
   "id": "bd0a64c1",
   "metadata": {
    "execution": {
     "iopub.execute_input": "2024-02-24T12:45:14.297206Z",
     "iopub.status.busy": "2024-02-24T12:45:14.296771Z",
     "iopub.status.idle": "2024-02-24T12:45:14.304197Z",
     "shell.execute_reply": "2024-02-24T12:45:14.303079Z"
    },
    "papermill": {
     "duration": 0.022831,
     "end_time": "2024-02-24T12:45:14.306386",
     "exception": false,
     "start_time": "2024-02-24T12:45:14.283555",
     "status": "completed"
    },
    "tags": []
   },
   "outputs": [
    {
     "data": {
      "text/plain": [
       "(45466, 45466)"
      ]
     },
     "execution_count": 13,
     "metadata": {},
     "output_type": "execute_result"
    }
   ],
   "source": [
    "cosine_sim.shape"
   ]
  },
  {
   "cell_type": "code",
   "execution_count": 14,
   "id": "8e97918c",
   "metadata": {
    "execution": {
     "iopub.execute_input": "2024-02-24T12:45:14.332595Z",
     "iopub.status.busy": "2024-02-24T12:45:14.332186Z",
     "iopub.status.idle": "2024-02-24T12:45:14.339697Z",
     "shell.execute_reply": "2024-02-24T12:45:14.338595Z"
    },
    "papermill": {
     "duration": 0.023565,
     "end_time": "2024-02-24T12:45:14.341973",
     "exception": false,
     "start_time": "2024-02-24T12:45:14.318408",
     "status": "completed"
    },
    "tags": []
   },
   "outputs": [
    {
     "data": {
      "text/plain": [
       "array([0.01504121, 1.        , 0.04681953, ..., 0.        , 0.02198641,\n",
       "       0.00929411])"
      ]
     },
     "execution_count": 14,
     "metadata": {},
     "output_type": "execute_result"
    }
   ],
   "source": [
    "cosine_sim[1]"
   ]
  },
  {
   "cell_type": "markdown",
   "id": "755995a5",
   "metadata": {
    "papermill": {
     "duration": 0.012043,
     "end_time": "2024-02-24T12:45:14.366281",
     "exception": false,
     "start_time": "2024-02-24T12:45:14.354238",
     "status": "completed"
    },
    "tags": []
   },
   "source": [
    "# 5-Making Recommendations Based on Similarities"
   ]
  },
  {
   "cell_type": "code",
   "execution_count": 15,
   "id": "7a663b58",
   "metadata": {
    "execution": {
     "iopub.execute_input": "2024-02-24T12:45:14.392299Z",
     "iopub.status.busy": "2024-02-24T12:45:14.391880Z",
     "iopub.status.idle": "2024-02-24T12:45:14.437135Z",
     "shell.execute_reply": "2024-02-24T12:45:14.436065Z"
    },
    "papermill": {
     "duration": 0.061112,
     "end_time": "2024-02-24T12:45:14.439485",
     "exception": false,
     "start_time": "2024-02-24T12:45:14.378373",
     "status": "completed"
    },
    "tags": []
   },
   "outputs": [
    {
     "data": {
      "text/plain": [
       "title\n",
       "Cinderella              11\n",
       "Hamlet                   9\n",
       "Alice in Wonderland      9\n",
       "Beauty and the Beast     8\n",
       "Les Misérables           8\n",
       "                        ..\n",
       "Cluny Brown              1\n",
       "Babies                   1\n",
       "The Green Room           1\n",
       "Captain Conan            1\n",
       "Queerama                 1\n",
       "Name: count, Length: 42277, dtype: int64"
      ]
     },
     "execution_count": 15,
     "metadata": {},
     "output_type": "execute_result"
    }
   ],
   "source": [
    "indices = pd.Series(df.index, index=df['title']) #Assigning an index for each title\n",
    "\n",
    "indices.index.value_counts() #Get duplicate records with the same name"
   ]
  },
  {
   "cell_type": "code",
   "execution_count": 16,
   "id": "b2dca375",
   "metadata": {
    "execution": {
     "iopub.execute_input": "2024-02-24T12:45:14.467348Z",
     "iopub.status.busy": "2024-02-24T12:45:14.466475Z",
     "iopub.status.idle": "2024-02-24T12:45:14.484804Z",
     "shell.execute_reply": "2024-02-24T12:45:14.483953Z"
    },
    "papermill": {
     "duration": 0.034768,
     "end_time": "2024-02-24T12:45:14.486961",
     "exception": false,
     "start_time": "2024-02-24T12:45:14.452193",
     "status": "completed"
    },
    "tags": []
   },
   "outputs": [
    {
     "data": {
      "text/plain": [
       "title\n",
       "Cinderella      993\n",
       "Cinderella    13076\n",
       "Cinderella    23507\n",
       "Cinderella    23518\n",
       "Cinderella    28391\n",
       "Cinderella    28664\n",
       "Cinderella    34254\n",
       "Cinderella    35593\n",
       "Cinderella    35595\n",
       "Cinderella    41074\n",
       "Cinderella    45406\n",
       "dtype: int64"
      ]
     },
     "execution_count": 16,
     "metadata": {},
     "output_type": "execute_result"
    }
   ],
   "source": [
    "indices[\"Cinderella\"] #It came as the record that has been made 11 times from the Cinderella movie and has the most duplicates"
   ]
  },
  {
   "cell_type": "code",
   "execution_count": 17,
   "id": "577feb95",
   "metadata": {
    "execution": {
     "iopub.execute_input": "2024-02-24T12:45:14.513633Z",
     "iopub.status.busy": "2024-02-24T12:45:14.513254Z",
     "iopub.status.idle": "2024-02-24T12:45:14.523940Z",
     "shell.execute_reply": "2024-02-24T12:45:14.522993Z"
    },
    "papermill": {
     "duration": 0.026482,
     "end_time": "2024-02-24T12:45:14.526202",
     "exception": false,
     "start_time": "2024-02-24T12:45:14.499720",
     "status": "completed"
    },
    "tags": []
   },
   "outputs": [],
   "source": [
    "indices = indices[~indices.index.duplicated(keep='last')] #To keep the last record in duplicates"
   ]
  },
  {
   "cell_type": "code",
   "execution_count": 18,
   "id": "005618d5",
   "metadata": {
    "execution": {
     "iopub.execute_input": "2024-02-24T12:45:14.553796Z",
     "iopub.status.busy": "2024-02-24T12:45:14.553339Z",
     "iopub.status.idle": "2024-02-24T12:45:14.566020Z",
     "shell.execute_reply": "2024-02-24T12:45:14.564976Z"
    },
    "papermill": {
     "duration": 0.029343,
     "end_time": "2024-02-24T12:45:14.568292",
     "exception": false,
     "start_time": "2024-02-24T12:45:14.538949",
     "status": "completed"
    },
    "tags": []
   },
   "outputs": [
    {
     "data": {
      "text/plain": [
       "45406"
      ]
     },
     "execution_count": 18,
     "metadata": {},
     "output_type": "execute_result"
    }
   ],
   "source": [
    "indices[\"Cinderella\"] #Only the last record remained for Cinderella"
   ]
  },
  {
   "cell_type": "code",
   "execution_count": 19,
   "id": "a842b397",
   "metadata": {
    "execution": {
     "iopub.execute_input": "2024-02-24T12:45:14.596046Z",
     "iopub.status.busy": "2024-02-24T12:45:14.595621Z",
     "iopub.status.idle": "2024-02-24T12:45:14.602090Z",
     "shell.execute_reply": "2024-02-24T12:45:14.600979Z"
    },
    "papermill": {
     "duration": 0.02321,
     "end_time": "2024-02-24T12:45:14.604490",
     "exception": false,
     "start_time": "2024-02-24T12:45:14.581280",
     "status": "completed"
    },
    "tags": []
   },
   "outputs": [
    {
     "data": {
      "text/plain": [
       "13198"
      ]
     },
     "execution_count": 19,
     "metadata": {},
     "output_type": "execute_result"
    }
   ],
   "source": [
    "indices[\"Seven Pounds\"] #Let's look at my favourite film"
   ]
  },
  {
   "cell_type": "code",
   "execution_count": 20,
   "id": "4acdb70d",
   "metadata": {
    "execution": {
     "iopub.execute_input": "2024-02-24T12:45:14.632885Z",
     "iopub.status.busy": "2024-02-24T12:45:14.632472Z",
     "iopub.status.idle": "2024-02-24T12:45:14.638696Z",
     "shell.execute_reply": "2024-02-24T12:45:14.637929Z"
    },
    "papermill": {
     "duration": 0.023186,
     "end_time": "2024-02-24T12:45:14.640818",
     "exception": false,
     "start_time": "2024-02-24T12:45:14.617632",
     "status": "completed"
    },
    "tags": []
   },
   "outputs": [
    {
     "data": {
      "text/plain": [
       "array([0.      , 0.      , 0.      , ..., 0.      , 0.010178, 0.      ])"
      ]
     },
     "execution_count": 20,
     "metadata": {},
     "output_type": "execute_result"
    }
   ],
   "source": [
    "movie_index = indices[\"Seven Pounds\"]\n",
    "\n",
    "cosine_sim[movie_index] "
   ]
  },
  {
   "cell_type": "code",
   "execution_count": 21,
   "id": "a2fdf247",
   "metadata": {
    "execution": {
     "iopub.execute_input": "2024-02-24T12:45:14.670849Z",
     "iopub.status.busy": "2024-02-24T12:45:14.669888Z",
     "iopub.status.idle": "2024-02-24T12:45:14.682832Z",
     "shell.execute_reply": "2024-02-24T12:45:14.682047Z"
    },
    "papermill": {
     "duration": 0.030771,
     "end_time": "2024-02-24T12:45:14.684982",
     "exception": false,
     "start_time": "2024-02-24T12:45:14.654211",
     "status": "completed"
    },
    "tags": []
   },
   "outputs": [
    {
     "data": {
      "text/plain": [
       "20798                                        To the Arctic\n",
       "2121                                                  Cube\n",
       "31835                                       The Last Light\n",
       "40214                                                  Sky\n",
       "8238                                     The Polar Express\n",
       "38972                                                Seven\n",
       "21174                                       The Last Seven\n",
       "11784                                                21 Up\n",
       "5770                                          Scarlet Diva\n",
       "32158    The World is Big and Salvation Lurks Around th...\n",
       "Name: title, dtype: object"
      ]
     },
     "execution_count": 21,
     "metadata": {},
     "output_type": "execute_result"
    }
   ],
   "source": [
    "#To access similarity scores with other movies\n",
    "similarity_scores = pd.DataFrame(cosine_sim[movie_index],\n",
    "                                 columns=[\"score\"])\n",
    "\n",
    "movie_indices = similarity_scores.sort_values(\"score\", ascending=False)[1:11].index\n",
    "\n",
    "df['title'].iloc[movie_indices] #similar films with \"Seven Pounds\"\n"
   ]
  },
  {
   "cell_type": "code",
   "execution_count": 22,
   "id": "60874ced",
   "metadata": {
    "execution": {
     "iopub.execute_input": "2024-02-24T12:45:14.715331Z",
     "iopub.status.busy": "2024-02-24T12:45:14.714383Z",
     "iopub.status.idle": "2024-02-24T12:45:14.722119Z",
     "shell.execute_reply": "2024-02-24T12:45:14.721143Z"
    },
    "papermill": {
     "duration": 0.025371,
     "end_time": "2024-02-24T12:45:14.724351",
     "exception": false,
     "start_time": "2024-02-24T12:45:14.698980",
     "status": "completed"
    },
    "tags": []
   },
   "outputs": [],
   "source": [
    "#Create a function for above steps\n",
    "def content_based_recommender(title, cosine_sim, dataframe):\n",
    "    # create indexes\n",
    "    indices = pd.Series(dataframe.index, index=dataframe['title'])\n",
    "    indices = indices[~indices.index.duplicated(keep='last')]\n",
    "    # Catching the index of title\n",
    "    movie_index = indices[title]\n",
    "    #Calculating similarity scores based on 'title\n",
    "    similarity_scores = pd.DataFrame(cosine_sim[movie_index], columns=[\"score\"])\n",
    "    # Retrieving the first 10 movies excluding itself\n",
    "    movie_indices = similarity_scores.sort_values(\"score\", ascending=False)[1:11].index\n",
    "    return dataframe['title'].iloc[movie_indices]"
   ]
  },
  {
   "cell_type": "code",
   "execution_count": 23,
   "id": "164944f7",
   "metadata": {
    "execution": {
     "iopub.execute_input": "2024-02-24T12:45:14.754153Z",
     "iopub.status.busy": "2024-02-24T12:45:14.753254Z",
     "iopub.status.idle": "2024-02-24T12:45:14.781471Z",
     "shell.execute_reply": "2024-02-24T12:45:14.780059Z"
    },
    "papermill": {
     "duration": 0.045547,
     "end_time": "2024-02-24T12:45:14.783882",
     "exception": false,
     "start_time": "2024-02-24T12:45:14.738335",
     "status": "completed"
    },
    "tags": []
   },
   "outputs": [
    {
     "data": {
      "text/plain": [
       "20798                                        To the Arctic\n",
       "2121                                                  Cube\n",
       "31835                                       The Last Light\n",
       "40214                                                  Sky\n",
       "8238                                     The Polar Express\n",
       "38972                                                Seven\n",
       "21174                                       The Last Seven\n",
       "11784                                                21 Up\n",
       "5770                                          Scarlet Diva\n",
       "32158    The World is Big and Salvation Lurks Around th...\n",
       "Name: title, dtype: object"
      ]
     },
     "execution_count": 23,
     "metadata": {},
     "output_type": "execute_result"
    }
   ],
   "source": [
    "content_based_recommender(\"Seven Pounds\", cosine_sim, df)"
   ]
  },
  {
   "cell_type": "code",
   "execution_count": 24,
   "id": "943a4c30",
   "metadata": {
    "execution": {
     "iopub.execute_input": "2024-02-24T12:45:14.816721Z",
     "iopub.status.busy": "2024-02-24T12:45:14.815512Z",
     "iopub.status.idle": "2024-02-24T12:45:14.846681Z",
     "shell.execute_reply": "2024-02-24T12:45:14.845469Z"
    },
    "papermill": {
     "duration": 0.050341,
     "end_time": "2024-02-24T12:45:14.849315",
     "exception": false,
     "start_time": "2024-02-24T12:45:14.798974",
     "status": "completed"
    },
    "tags": []
   },
   "outputs": [
    {
     "data": {
      "text/plain": [
       "44161                        A Detective Story\n",
       "44167                              Kid's Story\n",
       "44163                             World Record\n",
       "33854                                Algorithm\n",
       "167                                    Hackers\n",
       "20707    Underground: The Julian Assange Story\n",
       "6515                                  Commando\n",
       "24202                                 Who Am I\n",
       "22085                           Berlin Express\n",
       "9159                                  Takedown\n",
       "Name: title, dtype: object"
      ]
     },
     "execution_count": 24,
     "metadata": {},
     "output_type": "execute_result"
    }
   ],
   "source": [
    "content_based_recommender(\"The Matrix\", cosine_sim, df)"
   ]
  },
  {
   "cell_type": "code",
   "execution_count": 25,
   "id": "94dc8bd7",
   "metadata": {
    "execution": {
     "iopub.execute_input": "2024-02-24T12:45:14.881151Z",
     "iopub.status.busy": "2024-02-24T12:45:14.880679Z",
     "iopub.status.idle": "2024-02-24T12:45:14.908528Z",
     "shell.execute_reply": "2024-02-24T12:45:14.907429Z"
    },
    "papermill": {
     "duration": 0.04595,
     "end_time": "2024-02-24T12:45:14.910859",
     "exception": false,
     "start_time": "2024-02-24T12:45:14.864909",
     "status": "completed"
    },
    "tags": []
   },
   "outputs": [
    {
     "data": {
      "text/plain": [
       "43241    From a House on Willow Street\n",
       "41490                              Pet\n",
       "318               Swimming with Sharks\n",
       "16212                   Lovers of Hate\n",
       "3203                  The Waiting Game\n",
       "17562                      Bear's Kiss\n",
       "10143                    Ferpect Crime\n",
       "10716                       Hallelujah\n",
       "40978                  Girl in the Box\n",
       "43342              Korgoth of Barbaria\n",
       "Name: title, dtype: object"
      ]
     },
     "execution_count": 25,
     "metadata": {},
     "output_type": "execute_result"
    }
   ],
   "source": [
    "content_based_recommender(\"Lucy\", cosine_sim, df)"
   ]
  },
  {
   "cell_type": "markdown",
   "id": "1136fc46",
   "metadata": {
    "papermill": {
     "duration": 0.014519,
     "end_time": "2024-02-24T12:45:14.939972",
     "exception": false,
     "start_time": "2024-02-24T12:45:14.925453",
     "status": "completed"
    },
    "tags": []
   },
   "source": [
    "# 🎯 Conclusion\n",
    "In conclusion, the Content-Based Film Recommendation system suggests films to a user by identifying matches based on the keywords in the descriptions or categories of films they like. This system leverages the content of a film to establish connections with similar films, thereby facilitating the discovery of new films that align with the user’s tastes and interests. As a result, it personalizes and enriches the user's viewing experience by tailoring film recommendations to their specific preferences."
   ]
  },
  {
   "cell_type": "markdown",
   "id": "3c877082",
   "metadata": {
    "papermill": {
     "duration": 0.013879,
     "end_time": "2024-02-24T12:45:14.968146",
     "exception": false,
     "start_time": "2024-02-24T12:45:14.954267",
     "status": "completed"
    },
    "tags": []
   },
   "source": [
    "# **🌟 If you enjoyed this notebook, please consider following me for more interesting projects! Your likes 👍 and comments 💬 are highly appreciated and they motivate me to create more valuable content. Feel free to share your thoughts, feedback, or any questions you might have. Let's learn and grow together! 🚀**"
   ]
  }
 ],
 "metadata": {
  "kaggle": {
   "accelerator": "none",
   "dataSources": [
    {
     "datasetId": 4458499,
     "sourceId": 7648468,
     "sourceType": "datasetVersion"
    }
   ],
   "dockerImageVersionId": 30646,
   "isGpuEnabled": false,
   "isInternetEnabled": true,
   "language": "python",
   "sourceType": "notebook"
  },
  "kernelspec": {
   "display_name": "Python 3",
   "language": "python",
   "name": "python3"
  },
  "language_info": {
   "codemirror_mode": {
    "name": "ipython",
    "version": 3
   },
   "file_extension": ".py",
   "mimetype": "text/x-python",
   "name": "python",
   "nbconvert_exporter": "python",
   "pygments_lexer": "ipython3",
   "version": "3.10.13"
  },
  "papermill": {
   "default_parameters": {},
   "duration": 62.153824,
   "end_time": "2024-02-24T12:45:17.210474",
   "environment_variables": {},
   "exception": null,
   "input_path": "__notebook__.ipynb",
   "output_path": "__notebook__.ipynb",
   "parameters": {},
   "start_time": "2024-02-24T12:44:15.056650",
   "version": "2.5.0"
  }
 },
 "nbformat": 4,
 "nbformat_minor": 5
}
